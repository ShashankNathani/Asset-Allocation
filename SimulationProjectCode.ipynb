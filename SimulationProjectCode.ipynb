{
 "cells": [
  {
   "cell_type": "markdown",
   "metadata": {
    "id": "lZCeoR7LRu_e"
   },
   "source": [
    "\n",
    "# Asset Allocation Simulation Project Report \n",
    "+ Shashank Nathani\n",
    "+ sn2954\n"
   ]
  },
  {
   "cell_type": "code",
   "execution_count": 1,
   "metadata": {
    "id": "FURpSQXYVqnO"
   },
   "outputs": [],
   "source": [
    "### Imports \n",
    "import numpy as np\n",
    "import matplotlib.pyplot as plt\n",
    "from scipy.optimize import minimize\n",
    "import pandas as pd\n",
    "import warnings\n",
    "warnings.filterwarnings(\"ignore\")"
   ]
  },
  {
   "cell_type": "code",
   "execution_count": 2,
   "metadata": {
    "id": "GFJSoSU0WhDb"
   },
   "outputs": [],
   "source": [
    "## We use memoization so as to avoid reduce repititive calculations for time taking functions\n",
    "## In our case calculating optimal weights can take some time. \n",
    "## When displaying results this reduces runtime to 1/3 of the original time.\n",
    "## becaue it avoids repated optimzations for OSR, ISR and Turnvoer\n",
    "class Memoize:\n",
    "    def __init__(self, fn):\n",
    "        self.fn = fn\n",
    "        self.memo = {}\n",
    "    def __call__(self, *args):\n",
    "        if args not in self.memo:\n",
    "            self.memo[args] = self.fn(*args)\n",
    "        return self.memo[args]"
   ]
  },
  {
   "cell_type": "code",
   "execution_count": 3,
   "metadata": {
    "id": "JEcKZC1sVx--"
   },
   "outputs": [],
   "source": [
    "UNI = 2954     # We use this UNI as seed\n",
    "T = 2400                                          \n",
    "N = 10                                             \n",
    "rf = 0.002                                        # risk free rate\n",
    "kappa = 0.0125                                    # Required return\n",
    "loading_vector = np.random.uniform(0.5,1.5,N-1)   # loading vector is fixed except when N=50 "
   ]
  },
  {
   "cell_type": "code",
   "execution_count": 4,
   "metadata": {
    "id": "SPWWntNNat-Z"
   },
   "outputs": [],
   "source": [
    "def DGP_light(N=N,T=T,alpha = np.zeros(N-1),B = loading_vector,factorReturn = None,seed=UNI) :\n",
    "    '''data generation process for light tailed distribution\n",
    "    ----------------------------------------------------------\n",
    "    return actual return while providing excess to different global variables '''\n",
    "    global excess_returns,factor_return,e,returns,epsilon_cap    \n",
    "    excess_returns = np.zeros((N,T))                      \n",
    "    np.random.seed(seed) \n",
    "    factor_return = np.random.normal(0.007,np.sqrt(0.002),T) if factorReturn is None else factorReturn\n",
    "    SIGMA  = np.diag(np.random.uniform(0.10/np.sqrt(12),0.30/np.sqrt(12),N-1))\n",
    "    SIGMA  = SIGMA**2\n",
    "    MU = np.zeros(N-1)\n",
    "    e = np.ones(N)\n",
    "    excess_returns[0] = factor_return\n",
    "    epsilon_cap = np.zeros((N,T))\n",
    "    epsilon_cap[1:,:] = np.random.multivariate_normal(MU,SIGMA,T).T\n",
    "    for t in range(T-1):\n",
    "        excess_returns[1:,t] = alpha + excess_returns[0,t]*B + epsilon_cap[1:,t]\n",
    "    \n",
    "    returns = rf+excess_returns   "
   ]
  },
  {
   "cell_type": "code",
   "execution_count": 33,
   "metadata": {
    "id": "fCLw785Aa3nS"
   },
   "outputs": [],
   "source": [
    "def DGP_heavy(N=N,T=T,alpha = np.zeros(N-1),B = loading_vector,seed=UNI) :\n",
    "    '''data generation process for light tailed distribution\n",
    "    ----------------------------------------------------------\n",
    "    return actual return while providing excess to different global variables '''\n",
    "    global excess_returns,factor_return,e,returns,epsilon_cap\n",
    "    df = 5\n",
    "    excess_returns = np.zeros((N,T))\n",
    "    np.random.seed(seed) \n",
    "    factor_return = np.sqrt(0.002)*np.random.standard_t(df,T) + 0.007\n",
    "    e = np.ones(N)\n",
    "    excess_returns[0] = factor_return\n",
    "    for t in range(T-1):\n",
    "        Ut = np.random.chisquare(df,1)\n",
    "        excess_returns[1:,t] = alpha + excess_returns[0,t]*B + np.sqrt(df/Ut)*epsilon_cap[1:,t]\n",
    "        \n",
    "    returns = rf+excess_returns       "
   ]
  },
  {
   "cell_type": "code",
   "execution_count": 6,
   "metadata": {
    "colab": {
     "base_uri": "https://localhost:8080/",
     "height": 458
    },
    "id": "oHQ35r6TjnQM",
    "outputId": "8a57de4f-a10b-4733-fb0e-83e372587c83"
   },
   "outputs": [
    {
     "data": {
      "text/plain": [
       "Text(0.5, 1.0, 'Random Asset Excess Returns')"
      ]
     },
     "execution_count": 6,
     "metadata": {},
     "output_type": "execute_result"
    },
    {
     "data": {
      "image/png": "[encoded data removed]",
      "text/plain": [
       "<Figure size 864x432 with 2 Axes>"
      ]
     },
     "metadata": {
      "needs_background": "light"
     },
     "output_type": "display_data"
    }
   ],
   "source": [
    "DGP_light()\n",
    "rand_asset = 5              # any asset to compare with factor asset\n",
    "fig, axs = plt.subplots(1, 2, sharey=True, tight_layout=True,figsize=(12,6))\n",
    "# We can set the number of bins with the *bins* keyword argument.\n",
    "axs[0].hist(factor_return, bins=20)\n",
    "axs[0].set_title('Factor Risky Asset Excess Returns')\n",
    "axs[1].hist(excess_returns[rand_asset], bins=20)\n",
    "axs[1].set_title('Random Asset Excess Returns')"
   ]
  },
  {
   "cell_type": "code",
   "execution_count": 7,
   "metadata": {
    "colab": {
     "base_uri": "https://localhost:8080/",
     "height": 458
    },
    "id": "C0-vtk540cYf",
    "outputId": "2cb9447d-619a-4e59-ea62-97cbbee7d123"
   },
   "outputs": [
    {
     "data": {
      "text/plain": [
       "Text(0.5, 1.0, 'Random Asset Excess Returns')"
      ]
     },
     "execution_count": 7,
     "metadata": {},
     "output_type": "execute_result"
    },
    {
     "data": {
      "image/png": "[encoded data removed]",
      "text/plain": [
       "<Figure size 864x432 with 2 Axes>"
      ]
     },
     "metadata": {
      "needs_background": "light"
     },
     "output_type": "display_data"
    }
   ],
   "source": [
    "DGP_heavy()\n",
    "fig, axs = plt.subplots(1, 2, sharey=True, tight_layout=True,figsize=(12,6))\n",
    "# We can set the number of bins with the *bins* keyword argument.\n",
    "axs[0].hist(factor_return, bins=20)\n",
    "axs[0].set_title('Factor Risky Asset Excess Returns')\n",
    "axs[1].hist(excess_returns[rand_asset], bins=20)\n",
    "axs[1].set_title('Random Asset Excess Returns')"
   ]
  },
  {
   "cell_type": "code",
   "execution_count": 8,
   "metadata": {
    "id": "VCZMNDyZvfks"
   },
   "outputs": [],
   "source": [
    "def covMatInv(start,end) :\n",
    "    '''calculating vairance matrix from excess return \n",
    "    -------------------------------------\n",
    "    start : starting index\n",
    "    end : ending index '''\n",
    "    global excess_returns\n",
    "    X = excess_returns[:,start:end]\n",
    "    sig_inv = np.linalg.inv(np.cov(X))\n",
    "    return sig_inv"
   ]
  },
  {
   "cell_type": "code",
   "execution_count": 9,
   "metadata": {
    "id": "jmJhuc5jvSRN"
   },
   "outputs": [],
   "source": [
    "def Optimize(sigma,*args,N=N,obj=None,self_fin = False,short = True) : \n",
    "    '''optimization function given objective function and constraints\n",
    "    ----------------------------------------------------------------\n",
    "    sigma    : covariance matrix\n",
    "    *args    : constraints \n",
    "    obj      : objective function \n",
    "    self_fin : self financing considered \n",
    "    short    : shorting allowed\n",
    "    '''\n",
    "    bound = tuple((None,None) for i in range(N))\n",
    "    objective = lambda w : w@np.matmul(sigma,w) if obj is None else obj\n",
    "    x = np.array([1]+[0]*(N-1))\n",
    "    constr = [{'type': 'ineq', 'fun' : f} for f in args]\n",
    "    constr = constr + [{'type' : 'ineq', 'fun' : lambda x:x}] if short==False else constr\n",
    "    constr = constr + [{'type' : 'eq'  , 'fun' : lambda x: np.dot(x,e) - 1}] if self_fin==True else constr\n",
    "    solution = minimize(objective, x,method = 'SLSQP',constraints=constr,bounds=bound)\n",
    "    return solution.x\n",
    "  "
   ]
  },
  {
   "cell_type": "code",
   "execution_count": 10,
   "metadata": {
    "id": "mM5Mzh401mBm"
   },
   "outputs": [],
   "source": [
    "def OSR(method,N=N,M=120) :\n",
    "    ''' method : method to be used while solving for optimal weights\n",
    "      M        : rollling window parameter\n",
    "      T        : ending timestep   '''\n",
    "    mu_t = []\n",
    "    for t in range(M-1,T-1) :\n",
    "        weights = getOptimalWeights(t-M+1,t+1,method,N) \n",
    "        mu_t.append(weights@excess_returns[:,t+1])\n",
    "    osr = (np.mean(mu_t))/np.std(mu_t)     \n",
    "    return osr\n",
    "\n",
    "\n",
    "def ISR(method,N=N,M=120) :\n",
    "    ''' method  : method to be used while solving for optimal weights\n",
    "      M         : rollling window parameter\n",
    "      T         : ending timestep '''\n",
    "    mu_t = []\n",
    "    for t in range(M-1,T) :\n",
    "        weights = getOptimalWeights(t-M+1,t+1,method,N)\n",
    "        mu_t.append(weights@excess_returns[:,t])\n",
    "    isr = (np.mean(mu_t))/np.std(mu_t)     \n",
    "    return isr\n",
    "\n",
    "\n",
    "def Turnover(method,N=N,M=120) :\n",
    "    ''' method : method to be used while solving for optimal weights\n",
    "      M        : rollling window parameter\n",
    "      T        : ending timestep \n",
    "    '''\n",
    "    SUM = 0\n",
    "    for t in range(M-1,T) :\n",
    "        SUM += np.sum(abs(getOptimalWeights(t-M+1,t+1,method,N) - getRealizedWeights(t-M+1,t+1,method,N)))\n",
    "    return SUM/(T-M)"
   ]
  },
  {
   "cell_type": "code",
   "execution_count": 11,
   "metadata": {
    "id": "G1KiLH_rqvhe"
   },
   "outputs": [],
   "source": [
    "@Memoize                                                             ## We use memoize decoractor to cache results\n",
    "def getOptimalWeights(start,end,method,N) :\n",
    "    '''Solves for optimal weights given method\n",
    "    --------------------------------------------\n",
    "    start : starting index for excess returns matrix\n",
    "    end   : ending index for excess returns matrix\n",
    "    method: allocation method\n",
    "    N     : number of assets\n",
    "    '''\n",
    "    M = end - start\n",
    "    if method == 'ew' :\n",
    "        return e/N\n",
    "\n",
    "    if method == 'mkt' :\n",
    "        w = np.zeros(N)\n",
    "        w[0] = 1\n",
    "        return w\n",
    "\n",
    "    if method == 'mv' :\n",
    "        sigma_inv = covMatInv(start,end)\n",
    "        mu_cap = np.mean(excess_returns[:,start:end],axis=1)\n",
    "        mult = np.matmul(sigma_inv,mu_cap)\n",
    "        w = ((kappa-rf)/(mu_cap@mult))*mult\n",
    "        return w  \n",
    "\n",
    "    if method == 'u-mv' :\n",
    "        sigma_inv = covMatInv(start,end)\n",
    "        mu_cap = np.mean(excess_returns[:,start:end],axis=1)\n",
    "        mult = np.matmul(sigma_inv,mu_cap)\n",
    "        w = ((kappa-rf)/(mu_cap@mult))*mult*((M-N-2)/(M-1))\n",
    "        return w  \n",
    "\n",
    "    if method == 'bs' :\n",
    "        sigma_inv = covMatInv(start,end)\n",
    "        mu_cap = np.mean(excess_returns[:,start:end],axis=1)   + rf\n",
    "        mu_zero  = e*(mu_cap@np.matmul(sigma_inv,e))/(e@np.matmul(sigma_inv,e))\n",
    "        alpha = (N+2)/(N+2+(M-N-2)*( (mu_cap-mu_zero)@np.matmul(sigma_inv,(mu_cap-mu_zero)) ) )\n",
    "        mu_js = mu_zero + (1-alpha)*(mu_cap - mu_zero) \n",
    "        mult = np.matmul(sigma_inv,mu_js)\n",
    "        w = ((kappa-rf)/(mu_js@mult))*mult\n",
    "        return w\n",
    "\n",
    "    if method == 'min' :\n",
    "        sigma_inv = covMatInv(start,end)\n",
    "        mu_cap = np.mean(excess_returns[:,start:end],axis=1)    \n",
    "        w = np.matmul(sigma_inv,e)/(e@(np.matmul(sigma_inv,e)))\n",
    "        return w\n",
    "\n",
    "    if method == 'mv-c' :\n",
    "        sigma = np.cov(excess_returns[:,start:end])\n",
    "        mu_cap = np.mean(excess_returns[:,start:end],axis=1)\n",
    "        c1,c2 = lambda x : rf + mu_cap@x - kappa,  lambda x : 1-e@x\n",
    "        w = Optimize(sigma,c1,c2,N=N,short=False)\n",
    "        return w\n",
    "\n",
    "    if method == 'bs-c' :\n",
    "        sigma_inv = covMatInv(start,end)\n",
    "        sigma = np.cov(excess_returns[:,start:end])\n",
    "        mu_cap = rf + np.mean(excess_returns[:,start:end],axis=1)   ## actual return \n",
    "        mu_zero  = e*(mu_cap@np.matmul(sigma_inv,e))/(e@np.matmul(sigma_inv,e))\n",
    "        alpha = (N+2)/(N+2+(M-N-2)*( (mu_cap-mu_zero)@np.matmul(sigma_inv,(mu_cap-mu_zero)) ))\n",
    "        mu_js = mu_zero + (1-alpha)*(mu_cap - mu_zero)\n",
    "        c1,c2 = lambda x: rf + mu_js@x-kappa, lambda x: 1-e@x\n",
    "        w = Optimize(sigma,c1,c2,N=N,short=False)\n",
    "        return w\n",
    "\n",
    "    if method == 'min-c' :\n",
    "        sigma = np.cov(excess_returns[:,start:end])\n",
    "        mu_cap = np.mean(excess_returns[:,start:end],axis=1)\n",
    "        w = Optimize(sigma,N=N,self_fin=True,short=False)\n",
    "        return w\n",
    "\n",
    "    if method == 'r-m-1' :\n",
    "        delta = 0.004\n",
    "        sigma = np.cov(excess_returns[:,start:end])\n",
    "        mu_cap = np.mean(excess_returns[:,start:end],axis=1)\n",
    "        c1 = lambda x : rf + mu_cap@x - delta*abs(x)-kappa\n",
    "        w = Optimize(sigma,c1,N=N)\n",
    "        return w\n",
    "\n",
    "    if method == 'r-m-2' :\n",
    "        delta = 0.004\n",
    "        sigma = np.cov(excess_returns[:,start:end])\n",
    "        mu_cap = np.mean(excess_returns[:,start:end],axis=1)\n",
    "        ch_decomp = np.linalg.cholesky(sigma)  # we use cholesky decomposition here for sigma\n",
    "        c1 = lambda x:  rf + mu_cap@x - delta*np.linalg.norm(np.matmul(ch_decomp,x),2)-kappa\n",
    "        w = Optimize(sigma,c1,N=N)\n",
    "        return w\n",
    "  \n",
    "    if method == 'dr-mv' :\n",
    "        delta = 0.004\n",
    "        sigma = np.cov(excess_returns[:,start:end])\n",
    "        mu_cap = np.mean(excess_returns[:,start:end],axis=1)\n",
    "        obj = lambda x : (np.sqrt(x@np.matmul(sigma,x)) + delta*np.linalg.norm(x,2))**2\n",
    "        c1 = lambda x : rf + mu_cap@x - delta*np.linalg.norm(x,2) - kappa\n",
    "        w = Optimize(sigma,c1,N=N)\n",
    "        return w\n",
    "\n",
    "    if method == 'mv-tru-dist' :\n",
    "        B = np.insert(loading_vector,0,1)\n",
    "        distn_mu = 0.007*B\n",
    "        B = np.asfarray(B)[:, np.newaxis].T\n",
    "        SIGMA  = np.diag(np.random.uniform(0.10/np.sqrt(12),0.30/np.sqrt(12),N-1))**2\n",
    "        SIGMA  = np.insert(np.insert(SIGMA,0,0,axis=0),0,0,axis=1)\n",
    "        distn_sigma = 0.002*np.matmul(B.T,B) + SIGMA\n",
    "        mult = np.matmul(np.linalg.inv(distn_sigma),distn_mu)\n",
    "        w = ((kappa-rf)/(distn_mu@mult))*mult\n",
    "        return w  \n",
    "\n",
    "@Memoize\n",
    "def getRealizedWeights(start,end,method,N) :\n",
    "    if start==0 :\n",
    "        return getOptimalWeights(start,end,method,N)\n",
    "\n",
    "    w_prevRebal = getOptimalWeights(start-1,end-1,method,N)\n",
    "    w_rf = 1-np.sum(w_prevRebal)  # weight allocated to risk free asset\n",
    "    w_realized  = (w_prevRebal*(1+returns[:,start]))/( w_prevRebal@(1+returns[:,start]) + w_rf*(1+rf) ) \n",
    "    return w_realized\n",
    "\n"
   ]
  },
  {
   "cell_type": "code",
   "execution_count": 12,
   "metadata": {
    "id": "Ndo-8dO0YtwW"
   },
   "outputs": [],
   "source": [
    "def clear_cache() :\n",
    "    ''' clear memoized data '''\n",
    "    getRealizedWeights.memo = {}\n",
    "    getOptimalWeights.memo = {}"
   ]
  },
  {
   "cell_type": "code",
   "execution_count": 13,
   "metadata": {
    "id": "L-wrSwjEcEOk"
   },
   "outputs": [],
   "source": [
    "def display_results(N=10,M=120) :\n",
    "    clear_cache()\n",
    "    fields  = ['ISR','OSR','Turnover']\n",
    "    results = pd.DataFrame({f:[] for f in fields})\n",
    "    for alloc in mList : \n",
    "        results.loc[alloc] = [eval(f)(alloc,N,M) for f in fields]\n",
    "    return results"
   ]
  },
  {
   "cell_type": "markdown",
   "metadata": {
    "id": "tT8VCeWv56o4"
   },
   "source": []
  },
  {
   "cell_type": "code",
   "execution_count": 14,
   "metadata": {
    "id": "bnXrfCI1qzXm"
   },
   "outputs": [],
   "source": [
    "mList = ['ew','mkt','mv','u-mv','bs','min','mv-c','bs-c','min-c','r-m-1','r-m-2','dr-mv']"
   ]
  },
  {
   "cell_type": "markdown",
   "metadata": {
    "id": "Su3hrQrfw0AK"
   },
   "source": [
    "Testing all the strategies for the given metrics (ISR,OSR and Turnvoer) using both light tail and heavy tailed data"
   ]
  },
  {
   "cell_type": "code",
   "execution_count": null,
   "metadata": {
    "colab": {
     "base_uri": "https://localhost:8080/",
     "height": 426
    },
    "id": "CBKXnaYQn_1b",
    "outputId": "e23bbd9b-734a-46ff-86a1-f0f3f0a7499f"
   },
   "outputs": [],
   "source": [
    "DGP_light()\n",
    "display_results()"
   ]
  },
  {
   "cell_type": "code",
   "execution_count": 16,
   "metadata": {
    "colab": {
     "base_uri": "https://localhost:8080/",
     "height": 426
    },
    "id": "ilEII7BKQ0EC",
    "outputId": "890682a2-1a26-4ba7-c904-9e46f8954b5c"
   },
   "outputs": [
    {
     "data": {
      "text/html": [
       "<div>\n",
       "<style scoped>\n",
       "    .dataframe tbody tr th:only-of-type {\n",
       "        vertical-align: middle;\n",
       "    }\n",
       "\n",
       "    .dataframe tbody tr th {\n",
       "        vertical-align: top;\n",
       "    }\n",
       "\n",
       "    .dataframe thead th {\n",
       "        text-align: right;\n",
       "    }\n",
       "</style>\n",
       "<table border=\"1\" class=\"dataframe\">\n",
       "  <thead>\n",
       "    <tr style=\"text-align: right;\">\n",
       "      <th></th>\n",
       "      <th>ISR</th>\n",
       "      <th>OSR</th>\n",
       "      <th>Turnover</th>\n",
       "    </tr>\n",
       "  </thead>\n",
       "  <tbody>\n",
       "    <tr>\n",
       "      <th>ew</th>\n",
       "      <td>0.066053</td>\n",
       "      <td>0.066400</td>\n",
       "      <td>0.049403</td>\n",
       "    </tr>\n",
       "    <tr>\n",
       "      <th>mkt</th>\n",
       "      <td>0.072617</td>\n",
       "      <td>0.073185</td>\n",
       "      <td>0.000000</td>\n",
       "    </tr>\n",
       "    <tr>\n",
       "      <th>mv</th>\n",
       "      <td>0.260462</td>\n",
       "      <td>-0.013189</td>\n",
       "      <td>0.378691</td>\n",
       "    </tr>\n",
       "    <tr>\n",
       "      <th>u-mv</th>\n",
       "      <td>0.260462</td>\n",
       "      <td>-0.013189</td>\n",
       "      <td>0.342699</td>\n",
       "    </tr>\n",
       "    <tr>\n",
       "      <th>bs</th>\n",
       "      <td>0.191640</td>\n",
       "      <td>-0.008818</td>\n",
       "      <td>1.168210</td>\n",
       "    </tr>\n",
       "    <tr>\n",
       "      <th>min</th>\n",
       "      <td>0.054647</td>\n",
       "      <td>0.043768</td>\n",
       "      <td>0.129236</td>\n",
       "    </tr>\n",
       "    <tr>\n",
       "      <th>mv-c</th>\n",
       "      <td>0.142403</td>\n",
       "      <td>0.030332</td>\n",
       "      <td>0.250188</td>\n",
       "    </tr>\n",
       "    <tr>\n",
       "      <th>bs-c</th>\n",
       "      <td>0.131071</td>\n",
       "      <td>0.013562</td>\n",
       "      <td>0.251955</td>\n",
       "    </tr>\n",
       "    <tr>\n",
       "      <th>min-c</th>\n",
       "      <td>0.058029</td>\n",
       "      <td>0.053209</td>\n",
       "      <td>0.109420</td>\n",
       "    </tr>\n",
       "    <tr>\n",
       "      <th>r-m-1</th>\n",
       "      <td>0.244883</td>\n",
       "      <td>-0.010462</td>\n",
       "      <td>0.443238</td>\n",
       "    </tr>\n",
       "    <tr>\n",
       "      <th>r-m-2</th>\n",
       "      <td>0.253506</td>\n",
       "      <td>-0.003755</td>\n",
       "      <td>0.514665</td>\n",
       "    </tr>\n",
       "    <tr>\n",
       "      <th>dr-mv</th>\n",
       "      <td>0.223867</td>\n",
       "      <td>-0.002983</td>\n",
       "      <td>0.567114</td>\n",
       "    </tr>\n",
       "  </tbody>\n",
       "</table>\n",
       "</div>"
      ],
      "text/plain": [
       "            ISR       OSR  Turnover\n",
       "ew     0.066053  0.066400  0.049403\n",
       "mkt    0.072617  0.073185  0.000000\n",
       "mv     0.260462 -0.013189  0.378691\n",
       "u-mv   0.260462 -0.013189  0.342699\n",
       "bs     0.191640 -0.008818  1.168210\n",
       "min    0.054647  0.043768  0.129236\n",
       "mv-c   0.142403  0.030332  0.250188\n",
       "bs-c   0.131071  0.013562  0.251955\n",
       "min-c  0.058029  0.053209  0.109420\n",
       "r-m-1  0.244883 -0.010462  0.443238\n",
       "r-m-2  0.253506 -0.003755  0.514665\n",
       "dr-mv  0.223867 -0.002983  0.567114"
      ]
     },
     "execution_count": 16,
     "metadata": {},
     "output_type": "execute_result"
    }
   ],
   "source": [
    "DGP_heavy()\n",
    "display_results()"
   ]
  },
  {
   "cell_type": "markdown",
   "metadata": {
    "id": "xjmGThzOuCke"
   },
   "source": [
    "Part 2.2) Mean Variance Portfolio with true Distribution"
   ]
  },
  {
   "cell_type": "code",
   "execution_count": 17,
   "metadata": {
    "colab": {
     "base_uri": "https://localhost:8080/"
    },
    "id": "02Pcr6LwuCUM",
    "outputId": "02ccc879-2f88-416e-9d1d-80d0328bc3f2"
   },
   "outputs": [
    {
     "name": "stdout",
     "output_type": "stream",
     "text": [
      "OSR:  0.14081476027509138\n",
      "ISR:  0.1403400786625082\n",
      "Turnover:  0.026519761821156076\n"
     ]
    }
   ],
   "source": [
    "DGP_light()\n",
    "print('OSR: ', OSR('mv-tru-dist'))\n",
    "print('ISR: ', ISR('mv-tru-dist'))\n",
    "print('Turnover: ', Turnover('mv-tru-dist'))"
   ]
  },
  {
   "cell_type": "code",
   "execution_count": 34,
   "metadata": {
    "id": "vc2DK_M94utr"
   },
   "outputs": [
    {
     "name": "stdout",
     "output_type": "stream",
     "text": [
      "OSR:  0.1330070099855384\n",
      "ISR:  0.131995990543996\n",
      "Turnover:  0.031462028883451135\n"
     ]
    }
   ],
   "source": [
    "DGP_heavy()\n",
    "print('OSR: ', OSR('mv-tru-dist'))\n",
    "print('ISR: ', ISR('mv-tru-dist'))\n",
    "print('Turnover: ', Turnover('mv-tru-dist'))"
   ]
  },
  {
   "cell_type": "markdown",
   "metadata": {
    "id": "39m5zdIyrPsc"
   },
   "source": [
    "Part 3.1)  Effect of Window Length : We increase length of our window size and test our result for both the light and heavy tailed distribution"
   ]
  },
  {
   "cell_type": "code",
   "execution_count": 18,
   "metadata": {
    "colab": {
     "base_uri": "https://localhost:8080/",
     "height": 426
    },
    "id": "slH-ljy5cADQ",
    "outputId": "39a25375-05b8-4ce4-e17f-ca59cc6b0dea"
   },
   "outputs": [
    {
     "data": {
      "text/html": [
       "<div>\n",
       "<style scoped>\n",
       "    .dataframe tbody tr th:only-of-type {\n",
       "        vertical-align: middle;\n",
       "    }\n",
       "\n",
       "    .dataframe tbody tr th {\n",
       "        vertical-align: top;\n",
       "    }\n",
       "\n",
       "    .dataframe thead th {\n",
       "        text-align: right;\n",
       "    }\n",
       "</style>\n",
       "<table border=\"1\" class=\"dataframe\">\n",
       "  <thead>\n",
       "    <tr style=\"text-align: right;\">\n",
       "      <th></th>\n",
       "      <th>ISR</th>\n",
       "      <th>OSR</th>\n",
       "      <th>Turnover</th>\n",
       "    </tr>\n",
       "  </thead>\n",
       "  <tbody>\n",
       "    <tr>\n",
       "      <th>ew</th>\n",
       "      <td>0.138846</td>\n",
       "      <td>0.139418</td>\n",
       "      <td>0.040779</td>\n",
       "    </tr>\n",
       "    <tr>\n",
       "      <th>mkt</th>\n",
       "      <td>0.153968</td>\n",
       "      <td>0.154756</td>\n",
       "      <td>0.000000</td>\n",
       "    </tr>\n",
       "    <tr>\n",
       "      <th>mv</th>\n",
       "      <td>0.195828</td>\n",
       "      <td>0.101692</td>\n",
       "      <td>0.249399</td>\n",
       "    </tr>\n",
       "    <tr>\n",
       "      <th>u-mv</th>\n",
       "      <td>0.195828</td>\n",
       "      <td>0.101692</td>\n",
       "      <td>0.242951</td>\n",
       "    </tr>\n",
       "    <tr>\n",
       "      <th>bs</th>\n",
       "      <td>0.158064</td>\n",
       "      <td>0.123162</td>\n",
       "      <td>0.148127</td>\n",
       "    </tr>\n",
       "    <tr>\n",
       "      <th>min</th>\n",
       "      <td>0.128377</td>\n",
       "      <td>0.126393</td>\n",
       "      <td>0.066438</td>\n",
       "    </tr>\n",
       "    <tr>\n",
       "      <th>mv-c</th>\n",
       "      <td>0.131909</td>\n",
       "      <td>0.102498</td>\n",
       "      <td>0.104199</td>\n",
       "    </tr>\n",
       "    <tr>\n",
       "      <th>bs-c</th>\n",
       "      <td>0.127811</td>\n",
       "      <td>0.101026</td>\n",
       "      <td>0.075866</td>\n",
       "    </tr>\n",
       "    <tr>\n",
       "      <th>min-c</th>\n",
       "      <td>0.138490</td>\n",
       "      <td>0.135719</td>\n",
       "      <td>0.059247</td>\n",
       "    </tr>\n",
       "    <tr>\n",
       "      <th>r-m-1</th>\n",
       "      <td>0.187317</td>\n",
       "      <td>0.113025</td>\n",
       "      <td>0.285729</td>\n",
       "    </tr>\n",
       "    <tr>\n",
       "      <th>r-m-2</th>\n",
       "      <td>0.197593</td>\n",
       "      <td>0.107515</td>\n",
       "      <td>0.303288</td>\n",
       "    </tr>\n",
       "    <tr>\n",
       "      <th>dr-mv</th>\n",
       "      <td>0.177501</td>\n",
       "      <td>0.123985</td>\n",
       "      <td>0.344358</td>\n",
       "    </tr>\n",
       "  </tbody>\n",
       "</table>\n",
       "</div>"
      ],
      "text/plain": [
       "            ISR       OSR  Turnover\n",
       "ew     0.138846  0.139418  0.040779\n",
       "mkt    0.153968  0.154756  0.000000\n",
       "mv     0.195828  0.101692  0.249399\n",
       "u-mv   0.195828  0.101692  0.242951\n",
       "bs     0.158064  0.123162  0.148127\n",
       "min    0.128377  0.126393  0.066438\n",
       "mv-c   0.131909  0.102498  0.104199\n",
       "bs-c   0.127811  0.101026  0.075866\n",
       "min-c  0.138490  0.135719  0.059247\n",
       "r-m-1  0.187317  0.113025  0.285729\n",
       "r-m-2  0.197593  0.107515  0.303288\n",
       "dr-mv  0.177501  0.123985  0.344358"
      ]
     },
     "execution_count": 18,
     "metadata": {},
     "output_type": "execute_result"
    }
   ],
   "source": [
    "DGP_light()\n",
    "display_results(M=500)"
   ]
  },
  {
   "cell_type": "code",
   "execution_count": 19,
   "metadata": {
    "colab": {
     "base_uri": "https://localhost:8080/",
     "height": 426
    },
    "id": "c-5btmEh3Sf7",
    "outputId": "3520cbab-66ce-4b04-987f-b85e70ce32e5"
   },
   "outputs": [
    {
     "data": {
      "text/html": [
       "<div>\n",
       "<style scoped>\n",
       "    .dataframe tbody tr th:only-of-type {\n",
       "        vertical-align: middle;\n",
       "    }\n",
       "\n",
       "    .dataframe tbody tr th {\n",
       "        vertical-align: top;\n",
       "    }\n",
       "\n",
       "    .dataframe thead th {\n",
       "        text-align: right;\n",
       "    }\n",
       "</style>\n",
       "<table border=\"1\" class=\"dataframe\">\n",
       "  <thead>\n",
       "    <tr style=\"text-align: right;\">\n",
       "      <th></th>\n",
       "      <th>ISR</th>\n",
       "      <th>OSR</th>\n",
       "      <th>Turnover</th>\n",
       "    </tr>\n",
       "  </thead>\n",
       "  <tbody>\n",
       "    <tr>\n",
       "      <th>ew</th>\n",
       "      <td>0.074460</td>\n",
       "      <td>0.074300</td>\n",
       "      <td>0.049517</td>\n",
       "    </tr>\n",
       "    <tr>\n",
       "      <th>mkt</th>\n",
       "      <td>0.082708</td>\n",
       "      <td>0.082669</td>\n",
       "      <td>0.000000</td>\n",
       "    </tr>\n",
       "    <tr>\n",
       "      <th>mv</th>\n",
       "      <td>0.137408</td>\n",
       "      <td>0.005472</td>\n",
       "      <td>0.399507</td>\n",
       "    </tr>\n",
       "    <tr>\n",
       "      <th>u-mv</th>\n",
       "      <td>0.137408</td>\n",
       "      <td>0.005472</td>\n",
       "      <td>0.388306</td>\n",
       "    </tr>\n",
       "    <tr>\n",
       "      <th>bs</th>\n",
       "      <td>0.103611</td>\n",
       "      <td>0.045156</td>\n",
       "      <td>0.333158</td>\n",
       "    </tr>\n",
       "    <tr>\n",
       "      <th>min</th>\n",
       "      <td>0.061609</td>\n",
       "      <td>0.058286</td>\n",
       "      <td>0.081818</td>\n",
       "    </tr>\n",
       "    <tr>\n",
       "      <th>mv-c</th>\n",
       "      <td>0.089527</td>\n",
       "      <td>0.035062</td>\n",
       "      <td>0.135841</td>\n",
       "    </tr>\n",
       "    <tr>\n",
       "      <th>bs-c</th>\n",
       "      <td>0.091148</td>\n",
       "      <td>0.035917</td>\n",
       "      <td>0.130292</td>\n",
       "    </tr>\n",
       "    <tr>\n",
       "      <th>min-c</th>\n",
       "      <td>0.063767</td>\n",
       "      <td>0.061915</td>\n",
       "      <td>0.066786</td>\n",
       "    </tr>\n",
       "    <tr>\n",
       "      <th>r-m-1</th>\n",
       "      <td>0.128670</td>\n",
       "      <td>0.018346</td>\n",
       "      <td>0.468441</td>\n",
       "    </tr>\n",
       "    <tr>\n",
       "      <th>r-m-2</th>\n",
       "      <td>0.135160</td>\n",
       "      <td>0.001613</td>\n",
       "      <td>0.589805</td>\n",
       "    </tr>\n",
       "    <tr>\n",
       "      <th>dr-mv</th>\n",
       "      <td>0.116942</td>\n",
       "      <td>0.034976</td>\n",
       "      <td>0.527207</td>\n",
       "    </tr>\n",
       "  </tbody>\n",
       "</table>\n",
       "</div>"
      ],
      "text/plain": [
       "            ISR       OSR  Turnover\n",
       "ew     0.074460  0.074300  0.049517\n",
       "mkt    0.082708  0.082669  0.000000\n",
       "mv     0.137408  0.005472  0.399507\n",
       "u-mv   0.137408  0.005472  0.388306\n",
       "bs     0.103611  0.045156  0.333158\n",
       "min    0.061609  0.058286  0.081818\n",
       "mv-c   0.089527  0.035062  0.135841\n",
       "bs-c   0.091148  0.035917  0.130292\n",
       "min-c  0.063767  0.061915  0.066786\n",
       "r-m-1  0.128670  0.018346  0.468441\n",
       "r-m-2  0.135160  0.001613  0.589805\n",
       "dr-mv  0.116942  0.034976  0.527207"
      ]
     },
     "execution_count": 19,
     "metadata": {},
     "output_type": "execute_result"
    }
   ],
   "source": [
    "DGP_heavy()\n",
    "display_results(M=500)"
   ]
  },
  {
   "cell_type": "markdown",
   "metadata": {
    "id": "48CSfdq4rW-q"
   },
   "source": [
    "Part 3.2) Effect of Asset Number : We increase the number of assets to N=50 from N=10"
   ]
  },
  {
   "cell_type": "code",
   "execution_count": 20,
   "metadata": {
    "colab": {
     "base_uri": "https://localhost:8080/",
     "height": 426
    },
    "id": "A-y1LxQ_4oma",
    "outputId": "ed7ad2c9-9f68-423e-8c6a-feb3b4a9f03d"
   },
   "outputs": [
    {
     "data": {
      "text/html": [
       "<div>\n",
       "<style scoped>\n",
       "    .dataframe tbody tr th:only-of-type {\n",
       "        vertical-align: middle;\n",
       "    }\n",
       "\n",
       "    .dataframe tbody tr th {\n",
       "        vertical-align: top;\n",
       "    }\n",
       "\n",
       "    .dataframe thead th {\n",
       "        text-align: right;\n",
       "    }\n",
       "</style>\n",
       "<table border=\"1\" class=\"dataframe\">\n",
       "  <thead>\n",
       "    <tr style=\"text-align: right;\">\n",
       "      <th></th>\n",
       "      <th>ISR</th>\n",
       "      <th>OSR</th>\n",
       "      <th>Turnover</th>\n",
       "    </tr>\n",
       "  </thead>\n",
       "  <tbody>\n",
       "    <tr>\n",
       "      <th>ew</th>\n",
       "      <td>0.133421</td>\n",
       "      <td>0.133906</td>\n",
       "      <td>0.046724</td>\n",
       "    </tr>\n",
       "    <tr>\n",
       "      <th>mkt</th>\n",
       "      <td>0.140340</td>\n",
       "      <td>0.140815</td>\n",
       "      <td>0.000000</td>\n",
       "    </tr>\n",
       "    <tr>\n",
       "      <th>mv</th>\n",
       "      <td>0.855554</td>\n",
       "      <td>0.017837</td>\n",
       "      <td>0.420956</td>\n",
       "    </tr>\n",
       "    <tr>\n",
       "      <th>u-mv</th>\n",
       "      <td>0.855554</td>\n",
       "      <td>0.017837</td>\n",
       "      <td>0.240943</td>\n",
       "    </tr>\n",
       "    <tr>\n",
       "      <th>bs</th>\n",
       "      <td>0.762274</td>\n",
       "      <td>0.027967</td>\n",
       "      <td>0.798778</td>\n",
       "    </tr>\n",
       "    <tr>\n",
       "      <th>min</th>\n",
       "      <td>0.066601</td>\n",
       "      <td>0.036269</td>\n",
       "      <td>0.382374</td>\n",
       "    </tr>\n",
       "    <tr>\n",
       "      <th>mv-c</th>\n",
       "      <td>0.276392</td>\n",
       "      <td>0.079412</td>\n",
       "      <td>0.242306</td>\n",
       "    </tr>\n",
       "    <tr>\n",
       "      <th>bs-c</th>\n",
       "      <td>0.245775</td>\n",
       "      <td>0.075657</td>\n",
       "      <td>0.350386</td>\n",
       "    </tr>\n",
       "    <tr>\n",
       "      <th>min-c</th>\n",
       "      <td>0.114228</td>\n",
       "      <td>0.097551</td>\n",
       "      <td>0.133343</td>\n",
       "    </tr>\n",
       "    <tr>\n",
       "      <th>r-m-1</th>\n",
       "      <td>0.747015</td>\n",
       "      <td>0.041869</td>\n",
       "      <td>0.463459</td>\n",
       "    </tr>\n",
       "    <tr>\n",
       "      <th>r-m-2</th>\n",
       "      <td>0.704112</td>\n",
       "      <td>0.051692</td>\n",
       "      <td>0.358967</td>\n",
       "    </tr>\n",
       "    <tr>\n",
       "      <th>dr-mv</th>\n",
       "      <td>0.724234</td>\n",
       "      <td>0.050350</td>\n",
       "      <td>0.571531</td>\n",
       "    </tr>\n",
       "  </tbody>\n",
       "</table>\n",
       "</div>"
      ],
      "text/plain": [
       "            ISR       OSR  Turnover\n",
       "ew     0.133421  0.133906  0.046724\n",
       "mkt    0.140340  0.140815  0.000000\n",
       "mv     0.855554  0.017837  0.420956\n",
       "u-mv   0.855554  0.017837  0.240943\n",
       "bs     0.762274  0.027967  0.798778\n",
       "min    0.066601  0.036269  0.382374\n",
       "mv-c   0.276392  0.079412  0.242306\n",
       "bs-c   0.245775  0.075657  0.350386\n",
       "min-c  0.114228  0.097551  0.133343\n",
       "r-m-1  0.747015  0.041869  0.463459\n",
       "r-m-2  0.704112  0.051692  0.358967\n",
       "dr-mv  0.724234  0.050350  0.571531"
      ]
     },
     "execution_count": 20,
     "metadata": {},
     "output_type": "execute_result"
    }
   ],
   "source": [
    "B=np.random.uniform(0.5,1.5,49)\n",
    "DGP_light(N=50,alpha=np.zeros(49),B=B)\n",
    "display_results(N=50)"
   ]
  },
  {
   "cell_type": "code",
   "execution_count": 21,
   "metadata": {
    "colab": {
     "base_uri": "https://localhost:8080/",
     "height": 426
    },
    "id": "HMDkPkTJL0f2",
    "outputId": "e7ec6456-979b-4399-9922-2b9cff3aaf43"
   },
   "outputs": [
    {
     "data": {
      "text/html": [
       "<div>\n",
       "<style scoped>\n",
       "    .dataframe tbody tr th:only-of-type {\n",
       "        vertical-align: middle;\n",
       "    }\n",
       "\n",
       "    .dataframe tbody tr th {\n",
       "        vertical-align: top;\n",
       "    }\n",
       "\n",
       "    .dataframe thead th {\n",
       "        text-align: right;\n",
       "    }\n",
       "</style>\n",
       "<table border=\"1\" class=\"dataframe\">\n",
       "  <thead>\n",
       "    <tr style=\"text-align: right;\">\n",
       "      <th></th>\n",
       "      <th>ISR</th>\n",
       "      <th>OSR</th>\n",
       "      <th>Turnover</th>\n",
       "    </tr>\n",
       "  </thead>\n",
       "  <tbody>\n",
       "    <tr>\n",
       "      <th>ew</th>\n",
       "      <td>0.068055</td>\n",
       "      <td>0.068624</td>\n",
       "      <td>0.056593</td>\n",
       "    </tr>\n",
       "    <tr>\n",
       "      <th>mkt</th>\n",
       "      <td>0.072617</td>\n",
       "      <td>0.073185</td>\n",
       "      <td>0.000000</td>\n",
       "    </tr>\n",
       "    <tr>\n",
       "      <th>mv</th>\n",
       "      <td>0.842765</td>\n",
       "      <td>-0.003759</td>\n",
       "      <td>0.409816</td>\n",
       "    </tr>\n",
       "    <tr>\n",
       "      <th>u-mv</th>\n",
       "      <td>0.842765</td>\n",
       "      <td>-0.003759</td>\n",
       "      <td>0.234563</td>\n",
       "    </tr>\n",
       "    <tr>\n",
       "      <th>bs</th>\n",
       "      <td>0.762607</td>\n",
       "      <td>-0.000857</td>\n",
       "      <td>0.832609</td>\n",
       "    </tr>\n",
       "    <tr>\n",
       "      <th>min</th>\n",
       "      <td>0.041688</td>\n",
       "      <td>0.011406</td>\n",
       "      <td>0.464746</td>\n",
       "    </tr>\n",
       "    <tr>\n",
       "      <th>mv-c</th>\n",
       "      <td>0.224153</td>\n",
       "      <td>0.033325</td>\n",
       "      <td>0.225258</td>\n",
       "    </tr>\n",
       "    <tr>\n",
       "      <th>bs-c</th>\n",
       "      <td>0.201314</td>\n",
       "      <td>0.034773</td>\n",
       "      <td>0.335108</td>\n",
       "    </tr>\n",
       "    <tr>\n",
       "      <th>min-c</th>\n",
       "      <td>0.057265</td>\n",
       "      <td>0.047900</td>\n",
       "      <td>0.123932</td>\n",
       "    </tr>\n",
       "    <tr>\n",
       "      <th>r-m-1</th>\n",
       "      <td>0.765563</td>\n",
       "      <td>0.013453</td>\n",
       "      <td>0.538731</td>\n",
       "    </tr>\n",
       "    <tr>\n",
       "      <th>r-m-2</th>\n",
       "      <td>0.736375</td>\n",
       "      <td>0.015814</td>\n",
       "      <td>0.412300</td>\n",
       "    </tr>\n",
       "    <tr>\n",
       "      <th>dr-mv</th>\n",
       "      <td>0.760714</td>\n",
       "      <td>0.016947</td>\n",
       "      <td>0.555892</td>\n",
       "    </tr>\n",
       "  </tbody>\n",
       "</table>\n",
       "</div>"
      ],
      "text/plain": [
       "            ISR       OSR  Turnover\n",
       "ew     0.068055  0.068624  0.056593\n",
       "mkt    0.072617  0.073185  0.000000\n",
       "mv     0.842765 -0.003759  0.409816\n",
       "u-mv   0.842765 -0.003759  0.234563\n",
       "bs     0.762607 -0.000857  0.832609\n",
       "min    0.041688  0.011406  0.464746\n",
       "mv-c   0.224153  0.033325  0.225258\n",
       "bs-c   0.201314  0.034773  0.335108\n",
       "min-c  0.057265  0.047900  0.123932\n",
       "r-m-1  0.765563  0.013453  0.538731\n",
       "r-m-2  0.736375  0.015814  0.412300\n",
       "dr-mv  0.760714  0.016947  0.555892"
      ]
     },
     "execution_count": 21,
     "metadata": {},
     "output_type": "execute_result"
    }
   ],
   "source": [
    "DGP_heavy(N=50,alpha=np.zeros(49),B=B)\n",
    "display_results(N=50)"
   ]
  },
  {
   "cell_type": "markdown",
   "metadata": {
    "id": "GcDZo_SmreR6"
   },
   "source": [
    "Part 3.3) Effect of alpha: We introduce non-zero alpha in our equations"
   ]
  },
  {
   "cell_type": "code",
   "execution_count": 22,
   "metadata": {
    "colab": {
     "base_uri": "https://localhost:8080/",
     "height": 426
    },
    "id": "5t4d127HL6dW",
    "outputId": "e4154b08-9ae0-4cf4-9638-034f8129bcae"
   },
   "outputs": [
    {
     "data": {
      "text/html": [
       "<div>\n",
       "<style scoped>\n",
       "    .dataframe tbody tr th:only-of-type {\n",
       "        vertical-align: middle;\n",
       "    }\n",
       "\n",
       "    .dataframe tbody tr th {\n",
       "        vertical-align: top;\n",
       "    }\n",
       "\n",
       "    .dataframe thead th {\n",
       "        text-align: right;\n",
       "    }\n",
       "</style>\n",
       "<table border=\"1\" class=\"dataframe\">\n",
       "  <thead>\n",
       "    <tr style=\"text-align: right;\">\n",
       "      <th></th>\n",
       "      <th>ISR</th>\n",
       "      <th>OSR</th>\n",
       "      <th>Turnover</th>\n",
       "    </tr>\n",
       "  </thead>\n",
       "  <tbody>\n",
       "    <tr>\n",
       "      <th>ew</th>\n",
       "      <td>0.099312</td>\n",
       "      <td>0.099477</td>\n",
       "      <td>0.041067</td>\n",
       "    </tr>\n",
       "    <tr>\n",
       "      <th>mkt</th>\n",
       "      <td>0.140340</td>\n",
       "      <td>0.140815</td>\n",
       "      <td>0.000000</td>\n",
       "    </tr>\n",
       "    <tr>\n",
       "      <th>mv</th>\n",
       "      <td>0.507841</td>\n",
       "      <td>0.324395</td>\n",
       "      <td>0.153216</td>\n",
       "    </tr>\n",
       "    <tr>\n",
       "      <th>u-mv</th>\n",
       "      <td>0.507841</td>\n",
       "      <td>0.324395</td>\n",
       "      <td>0.138629</td>\n",
       "    </tr>\n",
       "    <tr>\n",
       "      <th>bs</th>\n",
       "      <td>0.458049</td>\n",
       "      <td>0.321283</td>\n",
       "      <td>0.171645</td>\n",
       "    </tr>\n",
       "    <tr>\n",
       "      <th>min</th>\n",
       "      <td>0.225067</td>\n",
       "      <td>0.208273</td>\n",
       "      <td>0.107340</td>\n",
       "    </tr>\n",
       "    <tr>\n",
       "      <th>mv-c</th>\n",
       "      <td>0.239615</td>\n",
       "      <td>0.151690</td>\n",
       "      <td>0.214819</td>\n",
       "    </tr>\n",
       "    <tr>\n",
       "      <th>bs-c</th>\n",
       "      <td>0.236826</td>\n",
       "      <td>0.161149</td>\n",
       "      <td>0.221333</td>\n",
       "    </tr>\n",
       "    <tr>\n",
       "      <th>min-c</th>\n",
       "      <td>0.133961</td>\n",
       "      <td>0.130341</td>\n",
       "      <td>0.128946</td>\n",
       "    </tr>\n",
       "    <tr>\n",
       "      <th>r-m-1</th>\n",
       "      <td>0.487949</td>\n",
       "      <td>0.319643</td>\n",
       "      <td>0.244416</td>\n",
       "    </tr>\n",
       "    <tr>\n",
       "      <th>r-m-2</th>\n",
       "      <td>0.465274</td>\n",
       "      <td>0.316055</td>\n",
       "      <td>0.184351</td>\n",
       "    </tr>\n",
       "    <tr>\n",
       "      <th>dr-mv</th>\n",
       "      <td>0.478057</td>\n",
       "      <td>0.305054</td>\n",
       "      <td>0.313383</td>\n",
       "    </tr>\n",
       "  </tbody>\n",
       "</table>\n",
       "</div>"
      ],
      "text/plain": [
       "            ISR       OSR  Turnover\n",
       "ew     0.099312  0.099477  0.041067\n",
       "mkt    0.140340  0.140815  0.000000\n",
       "mv     0.507841  0.324395  0.153216\n",
       "u-mv   0.507841  0.324395  0.138629\n",
       "bs     0.458049  0.321283  0.171645\n",
       "min    0.225067  0.208273  0.107340\n",
       "mv-c   0.239615  0.151690  0.214819\n",
       "bs-c   0.236826  0.161149  0.221333\n",
       "min-c  0.133961  0.130341  0.128946\n",
       "r-m-1  0.487949  0.319643  0.244416\n",
       "r-m-2  0.465274  0.316055  0.184351\n",
       "dr-mv  0.478057  0.305054  0.313383"
      ]
     },
     "execution_count": 22,
     "metadata": {},
     "output_type": "execute_result"
    }
   ],
   "source": [
    "DGP_light(alpha=np.random.uniform(-0.01,0.01,N-1))\n",
    "display_results()"
   ]
  },
  {
   "cell_type": "code",
   "execution_count": 23,
   "metadata": {
    "colab": {
     "base_uri": "https://localhost:8080/",
     "height": 426
    },
    "id": "Fz_9ADxZ9FwN",
    "outputId": "32a173ba-c16f-4395-a2ed-7b997227454f"
   },
   "outputs": [
    {
     "data": {
      "text/html": [
       "<div>\n",
       "<style scoped>\n",
       "    .dataframe tbody tr th:only-of-type {\n",
       "        vertical-align: middle;\n",
       "    }\n",
       "\n",
       "    .dataframe tbody tr th {\n",
       "        vertical-align: top;\n",
       "    }\n",
       "\n",
       "    .dataframe thead th {\n",
       "        text-align: right;\n",
       "    }\n",
       "</style>\n",
       "<table border=\"1\" class=\"dataframe\">\n",
       "  <thead>\n",
       "    <tr style=\"text-align: right;\">\n",
       "      <th></th>\n",
       "      <th>ISR</th>\n",
       "      <th>OSR</th>\n",
       "      <th>Turnover</th>\n",
       "    </tr>\n",
       "  </thead>\n",
       "  <tbody>\n",
       "    <tr>\n",
       "      <th>ew</th>\n",
       "      <td>0.054921</td>\n",
       "      <td>0.055268</td>\n",
       "      <td>0.049591</td>\n",
       "    </tr>\n",
       "    <tr>\n",
       "      <th>mkt</th>\n",
       "      <td>0.072617</td>\n",
       "      <td>0.073185</td>\n",
       "      <td>0.000000</td>\n",
       "    </tr>\n",
       "    <tr>\n",
       "      <th>mv</th>\n",
       "      <td>0.313425</td>\n",
       "      <td>0.085650</td>\n",
       "      <td>0.252054</td>\n",
       "    </tr>\n",
       "    <tr>\n",
       "      <th>u-mv</th>\n",
       "      <td>0.313425</td>\n",
       "      <td>0.085650</td>\n",
       "      <td>0.228182</td>\n",
       "    </tr>\n",
       "    <tr>\n",
       "      <th>bs</th>\n",
       "      <td>0.269925</td>\n",
       "      <td>0.072264</td>\n",
       "      <td>0.563731</td>\n",
       "    </tr>\n",
       "    <tr>\n",
       "      <th>min</th>\n",
       "      <td>-0.022656</td>\n",
       "      <td>-0.025210</td>\n",
       "      <td>0.129995</td>\n",
       "    </tr>\n",
       "    <tr>\n",
       "      <th>mv-c</th>\n",
       "      <td>0.152191</td>\n",
       "      <td>0.078340</td>\n",
       "      <td>0.169460</td>\n",
       "    </tr>\n",
       "    <tr>\n",
       "      <th>bs-c</th>\n",
       "      <td>0.157565</td>\n",
       "      <td>0.066242</td>\n",
       "      <td>0.205570</td>\n",
       "    </tr>\n",
       "    <tr>\n",
       "      <th>min-c</th>\n",
       "      <td>0.017622</td>\n",
       "      <td>0.015542</td>\n",
       "      <td>0.109595</td>\n",
       "    </tr>\n",
       "    <tr>\n",
       "      <th>r-m-1</th>\n",
       "      <td>0.299023</td>\n",
       "      <td>0.082794</td>\n",
       "      <td>0.328979</td>\n",
       "    </tr>\n",
       "    <tr>\n",
       "      <th>r-m-2</th>\n",
       "      <td>0.302842</td>\n",
       "      <td>0.086148</td>\n",
       "      <td>0.389354</td>\n",
       "    </tr>\n",
       "    <tr>\n",
       "      <th>dr-mv</th>\n",
       "      <td>0.281929</td>\n",
       "      <td>0.086105</td>\n",
       "      <td>0.430244</td>\n",
       "    </tr>\n",
       "  </tbody>\n",
       "</table>\n",
       "</div>"
      ],
      "text/plain": [
       "            ISR       OSR  Turnover\n",
       "ew     0.054921  0.055268  0.049591\n",
       "mkt    0.072617  0.073185  0.000000\n",
       "mv     0.313425  0.085650  0.252054\n",
       "u-mv   0.313425  0.085650  0.228182\n",
       "bs     0.269925  0.072264  0.563731\n",
       "min   -0.022656 -0.025210  0.129995\n",
       "mv-c   0.152191  0.078340  0.169460\n",
       "bs-c   0.157565  0.066242  0.205570\n",
       "min-c  0.017622  0.015542  0.109595\n",
       "r-m-1  0.299023  0.082794  0.328979\n",
       "r-m-2  0.302842  0.086148  0.389354\n",
       "dr-mv  0.281929  0.086105  0.430244"
      ]
     },
     "execution_count": 23,
     "metadata": {},
     "output_type": "execute_result"
    }
   ],
   "source": [
    "DGP_heavy(alpha=np.random.uniform(-0.01,0.01,N-1))\n",
    "display_results()"
   ]
  },
  {
   "cell_type": "markdown",
   "metadata": {
    "id": "RWJb2rsOqRIO"
   },
   "source": [
    "Part 4) Effect of Intertemporal Correlation"
   ]
  },
  {
   "cell_type": "code",
   "execution_count": 24,
   "metadata": {
    "id": "a1_-mWCQqgnB"
   },
   "outputs": [],
   "source": [
    "def AR_1() :\n",
    "    arr = [0.008]\n",
    "    np.random.seed(UNI)\n",
    "    for i in range(T-1) :\n",
    "        arr.append(0.010-0.112*arr[i-1]+np.random.normal(0,0.03))\n",
    "    return np.array(arr)"
   ]
  },
  {
   "cell_type": "code",
   "execution_count": 25,
   "metadata": {
    "colab": {
     "base_uri": "https://localhost:8080/",
     "height": 426
    },
    "id": "z_DjKU1G_nJD",
    "outputId": "9b9ffb31-fa63-4d8b-b114-346e28977e1f"
   },
   "outputs": [
    {
     "data": {
      "text/html": [
       "<div>\n",
       "<style scoped>\n",
       "    .dataframe tbody tr th:only-of-type {\n",
       "        vertical-align: middle;\n",
       "    }\n",
       "\n",
       "    .dataframe tbody tr th {\n",
       "        vertical-align: top;\n",
       "    }\n",
       "\n",
       "    .dataframe thead th {\n",
       "        text-align: right;\n",
       "    }\n",
       "</style>\n",
       "<table border=\"1\" class=\"dataframe\">\n",
       "  <thead>\n",
       "    <tr style=\"text-align: right;\">\n",
       "      <th></th>\n",
       "      <th>ISR</th>\n",
       "      <th>OSR</th>\n",
       "      <th>Turnover</th>\n",
       "    </tr>\n",
       "  </thead>\n",
       "  <tbody>\n",
       "    <tr>\n",
       "      <th>ew</th>\n",
       "      <td>0.241118</td>\n",
       "      <td>0.240832</td>\n",
       "      <td>0.041644</td>\n",
       "    </tr>\n",
       "    <tr>\n",
       "      <th>mkt</th>\n",
       "      <td>0.288112</td>\n",
       "      <td>0.287525</td>\n",
       "      <td>0.000000</td>\n",
       "    </tr>\n",
       "    <tr>\n",
       "      <th>mv</th>\n",
       "      <td>0.393806</td>\n",
       "      <td>0.185054</td>\n",
       "      <td>0.195242</td>\n",
       "    </tr>\n",
       "    <tr>\n",
       "      <th>u-mv</th>\n",
       "      <td>0.393806</td>\n",
       "      <td>0.185054</td>\n",
       "      <td>0.177136</td>\n",
       "    </tr>\n",
       "    <tr>\n",
       "      <th>bs</th>\n",
       "      <td>0.335890</td>\n",
       "      <td>0.233064</td>\n",
       "      <td>0.136141</td>\n",
       "    </tr>\n",
       "    <tr>\n",
       "      <th>min</th>\n",
       "      <td>0.255918</td>\n",
       "      <td>0.237686</td>\n",
       "      <td>0.065122</td>\n",
       "    </tr>\n",
       "    <tr>\n",
       "      <th>mv-c</th>\n",
       "      <td>0.296160</td>\n",
       "      <td>0.217780</td>\n",
       "      <td>0.232009</td>\n",
       "    </tr>\n",
       "    <tr>\n",
       "      <th>bs-c</th>\n",
       "      <td>0.238053</td>\n",
       "      <td>0.170628</td>\n",
       "      <td>0.263795</td>\n",
       "    </tr>\n",
       "    <tr>\n",
       "      <th>min-c</th>\n",
       "      <td>0.280301</td>\n",
       "      <td>0.279353</td>\n",
       "      <td>0.023962</td>\n",
       "    </tr>\n",
       "    <tr>\n",
       "      <th>r-m-1</th>\n",
       "      <td>0.383622</td>\n",
       "      <td>0.183271</td>\n",
       "      <td>0.275384</td>\n",
       "    </tr>\n",
       "    <tr>\n",
       "      <th>r-m-2</th>\n",
       "      <td>0.358497</td>\n",
       "      <td>0.209733</td>\n",
       "      <td>0.145426</td>\n",
       "    </tr>\n",
       "    <tr>\n",
       "      <th>dr-mv</th>\n",
       "      <td>0.368981</td>\n",
       "      <td>0.192811</td>\n",
       "      <td>0.392122</td>\n",
       "    </tr>\n",
       "  </tbody>\n",
       "</table>\n",
       "</div>"
      ],
      "text/plain": [
       "            ISR       OSR  Turnover\n",
       "ew     0.241118  0.240832  0.041644\n",
       "mkt    0.288112  0.287525  0.000000\n",
       "mv     0.393806  0.185054  0.195242\n",
       "u-mv   0.393806  0.185054  0.177136\n",
       "bs     0.335890  0.233064  0.136141\n",
       "min    0.255918  0.237686  0.065122\n",
       "mv-c   0.296160  0.217780  0.232009\n",
       "bs-c   0.238053  0.170628  0.263795\n",
       "min-c  0.280301  0.279353  0.023962\n",
       "r-m-1  0.383622  0.183271  0.275384\n",
       "r-m-2  0.358497  0.209733  0.145426\n",
       "dr-mv  0.368981  0.192811  0.392122"
      ]
     },
     "execution_count": 25,
     "metadata": {},
     "output_type": "execute_result"
    }
   ],
   "source": [
    "DGP_light(factorReturn=AR_1())\n",
    "display_results()    \n"
   ]
  },
  {
   "cell_type": "code",
   "execution_count": null,
   "metadata": {},
   "outputs": [],
   "source": []
  },
  {
   "cell_type": "code",
   "execution_count": null,
   "metadata": {},
   "outputs": [],
   "source": []
  }
 ],
 "metadata": {
  "colab": {
   "collapsed_sections": [],
   "name": "AssetAllocation_SimulationProject.ipynb",
   "provenance": []
  },
  "kernelspec": {
   "display_name": "Python 3 (ipykernel)",
   "language": "python",
   "name": "python3"
  },
  "language_info": {
   "codemirror_mode": {
    "name": "ipython",
    "version": 3
   },
   "file_extension": ".py",
   "mimetype": "text/x-python",
   "name": "python",
   "nbconvert_exporter": "python",
   "pygments_lexer": "ipython3",
   "version": "3.9.7"
  }
 },
 "nbformat": 4,
 "nbformat_minor": 1
}
